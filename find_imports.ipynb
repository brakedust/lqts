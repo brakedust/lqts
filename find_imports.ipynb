{
 "cells": [
  {
   "cell_type": "code",
   "execution_count": 9,
   "metadata": {},
   "outputs": [],
   "source": [
    "from pathlib import Path\n",
    "from itertools import chain"
   ]
  },
  {
   "cell_type": "code",
   "execution_count": 6,
   "metadata": {},
   "outputs": [
    {
     "data": {
      "text/plain": [
       "[WindowsPath('lqts/displaytable.py'),\n",
       " WindowsPath('lqts/environment.py'),\n",
       " WindowsPath('lqts/job_runner.py'),\n",
       " WindowsPath('lqts/main.py'),\n",
       " WindowsPath('lqts/mp_pool2.py'),\n",
       " WindowsPath('lqts/resources.py'),\n",
       " WindowsPath('lqts/simple_logging.py'),\n",
       " WindowsPath('lqts/util.py'),\n",
       " WindowsPath('lqts/version.py'),\n",
       " WindowsPath('lqts/__init__.py'),\n",
       " WindowsPath('lqts/__main__.py'),\n",
       " WindowsPath('lqts/api/api_v1.py'),\n",
       " WindowsPath('lqts/api/__init__.py'),\n",
       " WindowsPath('lqts/commands/click_ext.py'),\n",
       " WindowsPath('lqts/commands/qclear.py'),\n",
       " WindowsPath('lqts/commands/qdel.py'),\n",
       " WindowsPath('lqts/commands/qpriority.py'),\n",
       " WindowsPath('lqts/commands/qstart.py'),\n",
       " WindowsPath('lqts/commands/qstat.py'),\n",
       " WindowsPath('lqts/commands/qsub.py'),\n",
       " WindowsPath('lqts/commands/qsummary.py'),\n",
       " WindowsPath('lqts/commands/qwait.py'),\n",
       " WindowsPath('lqts/commands/qworkers.py'),\n",
       " WindowsPath('lqts/commands/__init__.py'),\n",
       " WindowsPath('lqts/core/config.py'),\n",
       " WindowsPath('lqts/core/schema.py'),\n",
       " WindowsPath('lqts/core/server.py'),\n",
       " WindowsPath('lqts/core/__init__.py'),\n",
       " WindowsPath('lqts/html/render_qstat.py'),\n",
       " WindowsPath('lqts/html/__init__.py'),\n",
       " WindowsPath('lqts/views/views_v1.py'),\n",
       " WindowsPath('lqts/views/__init__.py')]"
      ]
     },
     "execution_count": 6,
     "metadata": {},
     "output_type": "execute_result"
    }
   ],
   "source": [
    "pyfiles = list(Path('./lqts').glob(\"**/*.py\"))  \n",
    "pyfiles"
   ]
  },
  {
   "cell_type": "code",
   "execution_count": 11,
   "metadata": {},
   "outputs": [],
   "source": [
    "def is_comment(line:str) -> bool:\n",
    "    return line.strip().startswith(\"#\")\n",
    "\n",
    "def get_imports(pyfile: Path):\n",
    "    imports = []\n",
    "    for line in pyfile.read_text().splitlines():\n",
    "        if line.startswith(\"import\"):\n",
    "            line = line.replace(\"import \", \"\")\n",
    "            items = [item.strip(\" \") for item in line.split(\",\")]\n",
    "            items = [item.partition(\" as \")[0] for item in items]\n",
    "            items = [item.partition(\".\")[0] for item in items]\n",
    "            imports.extend(items)\n",
    "        elif line.startswith(\"from\") and \"import\" in line:\n",
    "            item = line.split(\" \")[1]\n",
    "            item = item.partition(\".\")[0]\n",
    "            imports.append(item)\n",
    "    return imports\n",
    "\n"
   ]
  },
  {
   "cell_type": "code",
   "execution_count": 12,
   "metadata": {},
   "outputs": [
    {
     "data": {
      "text/plain": [
       "{'',\n",
       " 'click',\n",
       " 'collections',\n",
       " 'concurrent',\n",
       " 'copy',\n",
       " 'dataclasses',\n",
       " 'datetime',\n",
       " 'enum',\n",
       " 'fastapi',\n",
       " 'fnmatch',\n",
       " 'functools',\n",
       " 'itertools',\n",
       " 'jinja2',\n",
       " 'json',\n",
       " 'lqts',\n",
       " 'math',\n",
       " 'multiprocessing',\n",
       " 'os',\n",
       " 'pathlib',\n",
       " 'psutil',\n",
       " 'pydantic',\n",
       " 'requests',\n",
       " 'starlette',\n",
       " 'string',\n",
       " 'subprocess',\n",
       " 'sys',\n",
       " 'textwrap',\n",
       " 'threading',\n",
       " 'time',\n",
       " 'tqdm',\n",
       " 'traceback',\n",
       " 'typing',\n",
       " 'ujson',\n",
       " 'urllib3'}"
      ]
     },
     "execution_count": 12,
     "metadata": {},
     "output_type": "execute_result"
    }
   ],
   "source": [
    "ims = set(list(chain(*[get_imports(pf) for pf in pyfiles])))\n",
    "ims"
   ]
  },
  {
   "cell_type": "code",
   "execution_count": 13,
   "metadata": {},
   "outputs": [],
   "source": [
    "import urllib3"
   ]
  },
  {
   "cell_type": "code",
   "execution_count": 14,
   "metadata": {},
   "outputs": [
    {
     "data": {
      "text/plain": [
       "'c:\\\\users\\\\CampbellBL\\\\work\\\\apps\\\\pyvenv\\\\work\\\\lib\\\\site-packages\\\\urllib3\\\\__init__.py'"
      ]
     },
     "execution_count": 14,
     "metadata": {},
     "output_type": "execute_result"
    }
   ],
   "source": [
    "urllib3.__file__"
   ]
  },
  {
   "cell_type": "code",
   "execution_count": null,
   "metadata": {},
   "outputs": [],
   "source": []
  }
 ],
 "metadata": {
  "kernelspec": {
   "display_name": "Python 3.10.4 64-bit (system)",
   "language": "python",
   "name": "python3"
  },
  "language_info": {
   "codemirror_mode": {
    "name": "ipython",
    "version": 3
   },
   "file_extension": ".py",
   "mimetype": "text/x-python",
   "name": "python",
   "nbconvert_exporter": "python",
   "pygments_lexer": "ipython3",
   "version": "3.10.4"
  },
  "orig_nbformat": 4,
  "vscode": {
   "interpreter": {
    "hash": "16ac311b574ecee42214f3f43f52a2059859658c40f67402606189208f216e7e"
   }
  }
 },
 "nbformat": 4,
 "nbformat_minor": 2
}
