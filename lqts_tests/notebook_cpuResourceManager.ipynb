{
 "cells": [
  {
   "cell_type": "code",
   "execution_count": 2,
   "metadata": {},
   "outputs": [],
   "source": [
    "from lqts.resources import CPUResourceManager, CPUResponse"
   ]
  },
  {
   "cell_type": "code",
   "execution_count": 3,
   "metadata": {},
   "outputs": [],
   "source": [
    "crm = CPUResourceManager(10)\n",
    "\n",
    "success, cpus1 = crm.get_processors(count=4)\n",
    "assert success\n",
    "assert len(cpus1) == 4"
   ]
  },
  {
   "cell_type": "code",
   "execution_count": 5,
   "metadata": {},
   "outputs": [],
   "source": [
    "success, cpus2 = crm.get_processors(count=4)\n",
    "assert success\n",
    "assert len(cpus2) == 4\n",
    "\n",
    "success, cpus3 = crm.get_processors(count=4)\n",
    "assert not success\n",
    "assert len(cpus3) == 0"
   ]
  },
  {
   "cell_type": "code",
   "execution_count": 6,
   "metadata": {},
   "outputs": [],
   "source": [
    "crm.free_processors(cpus1)"
   ]
  },
  {
   "cell_type": "code",
   "execution_count": 7,
   "metadata": {},
   "outputs": [],
   "source": [
    "cpus1=[]"
   ]
  },
  {
   "cell_type": "code",
   "execution_count": 8,
   "metadata": {},
   "outputs": [
    {
     "data": {
      "text/plain": [
       "4"
      ]
     },
     "execution_count": 8,
     "metadata": {},
     "output_type": "execute_result"
    }
   ],
   "source": [
    "crm.cpu_avalaible_count()"
   ]
  },
  {
   "cell_type": "code",
   "execution_count": 9,
   "metadata": {},
   "outputs": [
    {
     "data": {
      "text/plain": [
       "{2: <ProcState.idle: 0>,\n",
       " 4: <ProcState.idle: 0>,\n",
       " 6: <ProcState.idle: 0>,\n",
       " 8: <ProcState.idle: 0>,\n",
       " 3: <ProcState.busy: 1>,\n",
       " 5: <ProcState.busy: 1>,\n",
       " 7: <ProcState.busy: 1>,\n",
       " 9: <ProcState.busy: 1>}"
      ]
     },
     "execution_count": 9,
     "metadata": {},
     "output_type": "execute_result"
    }
   ],
   "source": [
    "crm.processors"
   ]
  },
  {
   "cell_type": "code",
   "execution_count": null,
   "metadata": {},
   "outputs": [],
   "source": []
  }
 ],
 "metadata": {
  "kernelspec": {
   "display_name": "Python 3.10.4 64-bit (system)",
   "language": "python",
   "name": "python3"
  },
  "language_info": {
   "codemirror_mode": {
    "name": "ipython",
    "version": 3
   },
   "file_extension": ".py",
   "mimetype": "text/x-python",
   "name": "python",
   "nbconvert_exporter": "python",
   "pygments_lexer": "ipython3",
   "version": "3.10.4"
  },
  "orig_nbformat": 4,
  "vscode": {
   "interpreter": {
    "hash": "16ac311b574ecee42214f3f43f52a2059859658c40f67402606189208f216e7e"
   }
  }
 },
 "nbformat": 4,
 "nbformat_minor": 2
}
